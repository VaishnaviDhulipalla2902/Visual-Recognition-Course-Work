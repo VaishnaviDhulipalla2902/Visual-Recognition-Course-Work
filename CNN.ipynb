{
 "cells": [
  {
   "cell_type": "code",
   "execution_count": 1,
   "metadata": {},
   "outputs": [
    {
     "name": "stderr",
     "output_type": "stream",
     "text": [
      "/home/vaishnavi/.local/lib/python3.6/site-packages/tensorflow/python/framework/dtypes.py:516: FutureWarning: Passing (type, 1) or '1type' as a synonym of type is deprecated; in a future version of numpy, it will be understood as (type, (1,)) / '(1,)type'.\n",
      "  _np_qint8 = np.dtype([(\"qint8\", np.int8, 1)])\n",
      "/home/vaishnavi/.local/lib/python3.6/site-packages/tensorflow/python/framework/dtypes.py:517: FutureWarning: Passing (type, 1) or '1type' as a synonym of type is deprecated; in a future version of numpy, it will be understood as (type, (1,)) / '(1,)type'.\n",
      "  _np_quint8 = np.dtype([(\"quint8\", np.uint8, 1)])\n",
      "/home/vaishnavi/.local/lib/python3.6/site-packages/tensorflow/python/framework/dtypes.py:518: FutureWarning: Passing (type, 1) or '1type' as a synonym of type is deprecated; in a future version of numpy, it will be understood as (type, (1,)) / '(1,)type'.\n",
      "  _np_qint16 = np.dtype([(\"qint16\", np.int16, 1)])\n",
      "/home/vaishnavi/.local/lib/python3.6/site-packages/tensorflow/python/framework/dtypes.py:519: FutureWarning: Passing (type, 1) or '1type' as a synonym of type is deprecated; in a future version of numpy, it will be understood as (type, (1,)) / '(1,)type'.\n",
      "  _np_quint16 = np.dtype([(\"quint16\", np.uint16, 1)])\n",
      "/home/vaishnavi/.local/lib/python3.6/site-packages/tensorflow/python/framework/dtypes.py:520: FutureWarning: Passing (type, 1) or '1type' as a synonym of type is deprecated; in a future version of numpy, it will be understood as (type, (1,)) / '(1,)type'.\n",
      "  _np_qint32 = np.dtype([(\"qint32\", np.int32, 1)])\n",
      "/home/vaishnavi/.local/lib/python3.6/site-packages/tensorflow/python/framework/dtypes.py:525: FutureWarning: Passing (type, 1) or '1type' as a synonym of type is deprecated; in a future version of numpy, it will be understood as (type, (1,)) / '(1,)type'.\n",
      "  np_resource = np.dtype([(\"resource\", np.ubyte, 1)])\n",
      "/home/vaishnavi/.local/lib/python3.6/site-packages/tensorboard/compat/tensorflow_stub/dtypes.py:541: FutureWarning: Passing (type, 1) or '1type' as a synonym of type is deprecated; in a future version of numpy, it will be understood as (type, (1,)) / '(1,)type'.\n",
      "  _np_qint8 = np.dtype([(\"qint8\", np.int8, 1)])\n",
      "/home/vaishnavi/.local/lib/python3.6/site-packages/tensorboard/compat/tensorflow_stub/dtypes.py:542: FutureWarning: Passing (type, 1) or '1type' as a synonym of type is deprecated; in a future version of numpy, it will be understood as (type, (1,)) / '(1,)type'.\n",
      "  _np_quint8 = np.dtype([(\"quint8\", np.uint8, 1)])\n",
      "/home/vaishnavi/.local/lib/python3.6/site-packages/tensorboard/compat/tensorflow_stub/dtypes.py:543: FutureWarning: Passing (type, 1) or '1type' as a synonym of type is deprecated; in a future version of numpy, it will be understood as (type, (1,)) / '(1,)type'.\n",
      "  _np_qint16 = np.dtype([(\"qint16\", np.int16, 1)])\n",
      "/home/vaishnavi/.local/lib/python3.6/site-packages/tensorboard/compat/tensorflow_stub/dtypes.py:544: FutureWarning: Passing (type, 1) or '1type' as a synonym of type is deprecated; in a future version of numpy, it will be understood as (type, (1,)) / '(1,)type'.\n",
      "  _np_quint16 = np.dtype([(\"quint16\", np.uint16, 1)])\n",
      "/home/vaishnavi/.local/lib/python3.6/site-packages/tensorboard/compat/tensorflow_stub/dtypes.py:545: FutureWarning: Passing (type, 1) or '1type' as a synonym of type is deprecated; in a future version of numpy, it will be understood as (type, (1,)) / '(1,)type'.\n",
      "  _np_qint32 = np.dtype([(\"qint32\", np.int32, 1)])\n",
      "/home/vaishnavi/.local/lib/python3.6/site-packages/tensorboard/compat/tensorflow_stub/dtypes.py:550: FutureWarning: Passing (type, 1) or '1type' as a synonym of type is deprecated; in a future version of numpy, it will be understood as (type, (1,)) / '(1,)type'.\n",
      "  np_resource = np.dtype([(\"resource\", np.ubyte, 1)])\n",
      "Using TensorFlow backend.\n"
     ]
    }
   ],
   "source": [
    "import tensorflow as tf\n",
    "import keras\n",
    "import numpy as np\n",
    "%matplotlib inline\n",
    "import matplotlib.pyplot as plt\n",
    "import cv2\n",
    "import time\n",
    "from keras.datasets import cifar10\n",
    "from keras.models import Sequential\n",
    "from keras.layers import BatchNormalization\n",
    "from keras.layers import Conv2D, MaxPooling2D, Flatten , Dense, Activation,Dropout\n",
    "from keras.layers.advanced_activations import LeakyReLU"
   ]
  },
  {
   "cell_type": "code",
   "execution_count": 2,
   "metadata": {},
   "outputs": [],
   "source": [
    "(X_train, y_train), (X_test, y_test) = cifar10.load_data()"
   ]
  },
  {
   "cell_type": "code",
   "execution_count": 3,
   "metadata": {},
   "outputs": [
    {
     "name": "stdout",
     "output_type": "stream",
     "text": [
      "Train samples:  (50000, 32, 32, 3) (50000, 1)\n",
      "Test samples:  (10000, 32, 32, 3) (10000, 1)\n"
     ]
    }
   ],
   "source": [
    "print(\"Train samples: \",X_train.shape, y_train.shape)\n",
    "print(\"Test samples: \",X_test.shape, y_test.shape)"
   ]
  },
  {
   "cell_type": "code",
   "execution_count": 4,
   "metadata": {},
   "outputs": [],
   "source": [
    "labels = [\"airplane\", \"automobile\", \"bird\", \"cat\", \"dog\", \"frog\", \"horse\", \"ship\", \"truck\"]"
   ]
  },
  {
   "cell_type": "code",
   "execution_count": 5,
   "metadata": {},
   "outputs": [],
   "source": [
    "X_train = (X_train/255) - 0.5\n",
    "X_test = (X_test/255) - 0.5\n",
    "y_train = keras.utils.to_categorical(y_train,10)\n",
    "y_test = keras.utils.to_categorical(y_test,10)"
   ]
  },
  {
   "cell_type": "code",
   "execution_count": 6,
   "metadata": {},
   "outputs": [],
   "source": [
    "def make_model(activation):\n",
    "    model = Sequential()\n",
    "    if activation == 'relu':\n",
    "        model.add(Conv2D(16, (3,3), padding='same', activation='relu', input_shape=(32,32,3)))\n",
    "        model.add(Conv2D(32, (3,3), padding='same', activation='relu', input_shape=(32,32,3)))\n",
    "    if activation == 'tanh':\n",
    "        model.add(Conv2D(16, (3,3), padding='same', activation='tanh', input_shape=(32,32,3)))\n",
    "        model.add(Conv2D(32, (3,3), padding='same', activation='tanh', input_shape=(32,32,3)))\n",
    "    if activation == 'sigmoid':\n",
    "        model.add(Conv2D(16, (3,3), padding='same', activation='sigmoid', input_shape=(32,32,3)))\n",
    "        model.add(Conv2D(32, (3,3), padding='same', activation='sigmoid', input_shape=(32,32,3)))\n",
    "    model.add(MaxPooling2D(pool_size=(2,2), strides=None, padding='valid', data_format=None))\n",
    "    model.add(Flatten())\n",
    "    model.add(Dense(256, input_shape=(256, )))\n",
    "    model.add(Dense(10))\n",
    "    model.add(Activation('softmax'))\n",
    "    \n",
    "    return model\n"
   ]
  },
  {
   "cell_type": "code",
   "execution_count": 7,
   "metadata": {},
   "outputs": [
    {
     "name": "stdout",
     "output_type": "stream",
     "text": [
      "WARNING:tensorflow:From /home/vaishnavi/.local/lib/python3.6/site-packages/keras/backend/tensorflow_backend.py:4070: The name tf.nn.max_pool is deprecated. Please use tf.nn.max_pool2d instead.\n",
      "\n",
      "Model: \"sequential_1\"\n",
      "_________________________________________________________________\n",
      "Layer (type)                 Output Shape              Param #   \n",
      "=================================================================\n",
      "conv2d_1 (Conv2D)            (None, 32, 32, 16)        448       \n",
      "_________________________________________________________________\n",
      "conv2d_2 (Conv2D)            (None, 32, 32, 32)        4640      \n",
      "_________________________________________________________________\n",
      "max_pooling2d_1 (MaxPooling2 (None, 16, 16, 32)        0         \n",
      "_________________________________________________________________\n",
      "flatten_1 (Flatten)          (None, 8192)              0         \n",
      "_________________________________________________________________\n",
      "dense_1 (Dense)              (None, 256)               2097408   \n",
      "_________________________________________________________________\n",
      "dense_2 (Dense)              (None, 10)                2570      \n",
      "_________________________________________________________________\n",
      "activation_1 (Activation)    (None, 10)                0         \n",
      "=================================================================\n",
      "Total params: 2,105,066\n",
      "Trainable params: 2,105,066\n",
      "Non-trainable params: 0\n",
      "_________________________________________________________________\n"
     ]
    }
   ],
   "source": [
    "# SGD without momentum\n",
    "model = make_model('relu')\n",
    "model.summary()\n",
    "model.compile(loss='categorical_crossentropy',\n",
    "              optimizer='sgd',\n",
    "             #optimizer=keras.optimizers.SGD(lr=0.01, momentum=0.9, nesterov=True),\n",
    "              metrics=['accuracy'])"
   ]
  },
  {
   "cell_type": "code",
   "execution_count": 8,
   "metadata": {},
   "outputs": [
    {
     "name": "stdout",
     "output_type": "stream",
     "text": [
      "WARNING:tensorflow:From /home/vaishnavi/.local/lib/python3.6/site-packages/keras/backend/tensorflow_backend.py:422: The name tf.global_variables is deprecated. Please use tf.compat.v1.global_variables instead.\n",
      "\n",
      "Epoch 1/10\n",
      "50000/50000 [==============================] - 72s 1ms/step - loss: 1.7375 - accuracy: 0.3861\n",
      "Epoch 2/10\n",
      "50000/50000 [==============================] - 69s 1ms/step - loss: 1.3809 - accuracy: 0.5124\n",
      "Epoch 3/10\n",
      "50000/50000 [==============================] - 68s 1ms/step - loss: 1.2304 - accuracy: 0.5683\n",
      "Epoch 4/10\n",
      "50000/50000 [==============================] - 67s 1ms/step - loss: 1.1281 - accuracy: 0.6057\n",
      "Epoch 5/10\n",
      "50000/50000 [==============================] - 75s 2ms/step - loss: 1.0474 - accuracy: 0.6349\n",
      "Epoch 6/10\n",
      "50000/50000 [==============================] - 68s 1ms/step - loss: 0.9812 - accuracy: 0.6564\n",
      "Epoch 7/10\n",
      "50000/50000 [==============================] - 75s 1ms/step - loss: 0.9260 - accuracy: 0.6773\n",
      "Epoch 8/10\n",
      "50000/50000 [==============================] - 76s 2ms/step - loss: 0.8799 - accuracy: 0.6953\n",
      "Epoch 9/10\n",
      "50000/50000 [==============================] - 77s 2ms/step - loss: 0.8405 - accuracy: 0.7096\n",
      "Epoch 10/10\n",
      "50000/50000 [==============================] - 79s 2ms/step - loss: 0.8058 - accuracy: 0.7228\n"
     ]
    },
    {
     "data": {
      "text/plain": [
       "<keras.callbacks.callbacks.History at 0x7f842eee7c50>"
      ]
     },
     "execution_count": 8,
     "metadata": {},
     "output_type": "execute_result"
    }
   ],
   "source": [
    "model.fit(X_train, y_train, epochs=10, batch_size=32,shuffle=False)"
   ]
  },
  {
   "cell_type": "code",
   "execution_count": 9,
   "metadata": {},
   "outputs": [
    {
     "name": "stdout",
     "output_type": "stream",
     "text": [
      "10000/10000 [==============================] - 4s 352us/step\n",
      "Test Loss:  1.0162196165084838\n",
      "Test Accuracy:  65.27000069618225\n"
     ]
    }
   ],
   "source": [
    "accuracy_sgd = model.evaluate(X_test, y_test, batch_size=32)\n",
    "print(\"Test Loss: \",accuracy_sgd[0])\n",
    "print(\"Test Accuracy: \",accuracy_sgd[1]*100)"
   ]
  },
  {
   "cell_type": "code",
   "execution_count": 10,
   "metadata": {},
   "outputs": [],
   "source": [
    "# SGD with momentum\n",
    "model.compile(loss='categorical_crossentropy',\n",
    "              optimizer=keras.optimizers.SGD(lr=0.01, momentum=0.9, nesterov=False),\n",
    "              metrics=['accuracy'])"
   ]
  },
  {
   "cell_type": "code",
   "execution_count": 11,
   "metadata": {},
   "outputs": [
    {
     "name": "stdout",
     "output_type": "stream",
     "text": [
      "Epoch 1/10\n",
      "50000/50000 [==============================] - 66s 1ms/step - loss: 1.0562 - accuracy: 0.6324\n",
      "Epoch 2/10\n",
      "50000/50000 [==============================] - 67s 1ms/step - loss: 0.8982 - accuracy: 0.6882\n",
      "Epoch 3/10\n",
      "50000/50000 [==============================] - 66s 1ms/step - loss: 0.8057 - accuracy: 0.7219\n",
      "Epoch 4/10\n",
      "50000/50000 [==============================] - 67s 1ms/step - loss: 0.7331 - accuracy: 0.7472\n",
      "Epoch 5/10\n",
      "50000/50000 [==============================] - 67s 1ms/step - loss: 0.6657 - accuracy: 0.7718\n",
      "Epoch 6/10\n",
      "50000/50000 [==============================] - 67s 1ms/step - loss: 0.6081 - accuracy: 0.7871\n",
      "Epoch 7/10\n",
      "50000/50000 [==============================] - 67s 1ms/step - loss: 0.5693 - accuracy: 0.7992\n",
      "Epoch 8/10\n",
      "50000/50000 [==============================] - 67s 1ms/step - loss: 0.5403 - accuracy: 0.8074\n",
      "Epoch 9/10\n",
      "50000/50000 [==============================] - 67s 1ms/step - loss: 0.5151 - accuracy: 0.8182\n",
      "Epoch 10/10\n",
      "50000/50000 [==============================] - 67s 1ms/step - loss: 0.4812 - accuracy: 0.8305\n"
     ]
    },
    {
     "data": {
      "text/plain": [
       "<keras.callbacks.callbacks.History at 0x7f842c340e48>"
      ]
     },
     "execution_count": 11,
     "metadata": {},
     "output_type": "execute_result"
    }
   ],
   "source": [
    "model.fit(X_train, y_train, epochs=10, batch_size=32,shuffle=False)"
   ]
  },
  {
   "cell_type": "code",
   "execution_count": 12,
   "metadata": {},
   "outputs": [
    {
     "name": "stdout",
     "output_type": "stream",
     "text": [
      "10000/10000 [==============================] - 4s 351us/step\n",
      "Test Loss:  2.2852809394836426\n",
      "Test Accuracy:  57.30999708175659\n"
     ]
    }
   ],
   "source": [
    "accuracy_momentum = model.evaluate(X_test, y_test, batch_size=32)\n",
    "print(\"Test Loss: \",accuracy_momentum[0])\n",
    "print(\"Test Accuracy: \",accuracy_momentum[1]*100)"
   ]
  },
  {
   "cell_type": "code",
   "execution_count": 13,
   "metadata": {},
   "outputs": [],
   "source": [
    "# SGD with Nesterov momentum\n",
    "model.compile(loss='categorical_crossentropy',\n",
    "              optimizer=keras.optimizers.SGD(lr=0.01, momentum=0.9, nesterov=True),\n",
    "              metrics=['accuracy'])"
   ]
  },
  {
   "cell_type": "code",
   "execution_count": 14,
   "metadata": {},
   "outputs": [
    {
     "name": "stdout",
     "output_type": "stream",
     "text": [
      "Epoch 1/10\n",
      "50000/50000 [==============================] - 83s 2ms/step - loss: 0.4009 - accuracy: 0.8568\n",
      "Epoch 2/10\n",
      "50000/50000 [==============================] - 83s 2ms/step - loss: 0.3730 - accuracy: 0.8680\n",
      "Epoch 3/10\n",
      "50000/50000 [==============================] - 83s 2ms/step - loss: 0.3646 - accuracy: 0.8725\n",
      "Epoch 4/10\n",
      "50000/50000 [==============================] - 83s 2ms/step - loss: 0.3575 - accuracy: 0.8785\n",
      "Epoch 5/10\n",
      "50000/50000 [==============================] - 83s 2ms/step - loss: 0.3361 - accuracy: 0.8854\n",
      "Epoch 6/10\n",
      "50000/50000 [==============================] - 83s 2ms/step - loss: 0.3368 - accuracy: 0.8857\n",
      "Epoch 7/10\n",
      "50000/50000 [==============================] - 83s 2ms/step - loss: 0.3168 - accuracy: 0.8946\n",
      "Epoch 8/10\n",
      "50000/50000 [==============================] - 83s 2ms/step - loss: 0.3218 - accuracy: 0.8950\n",
      "Epoch 9/10\n",
      "50000/50000 [==============================] - 83s 2ms/step - loss: 0.3107 - accuracy: 0.8991\n",
      "Epoch 10/10\n",
      "50000/50000 [==============================] - 83s 2ms/step - loss: 0.3015 - accuracy: 0.9022\n"
     ]
    },
    {
     "data": {
      "text/plain": [
       "<keras.callbacks.callbacks.History at 0x7f83cc228b00>"
      ]
     },
     "execution_count": 14,
     "metadata": {},
     "output_type": "execute_result"
    }
   ],
   "source": [
    "model.fit(X_train, y_train, epochs=10, batch_size=32,shuffle=False)"
   ]
  },
  {
   "cell_type": "code",
   "execution_count": 15,
   "metadata": {},
   "outputs": [
    {
     "name": "stdout",
     "output_type": "stream",
     "text": [
      "10000/10000 [==============================] - 3s 350us/step\n",
      "Test Loss:  3.9036438304901124\n",
      "Test Accuracy:  57.30000138282776\n"
     ]
    }
   ],
   "source": [
    "accuracy_nesterov = model.evaluate(X_test, y_test, batch_size=32)\n",
    "print(\"Test Loss: \",accuracy_nesterov[0])\n",
    "print(\"Test Accuracy: \",accuracy_nesterov[1]*100)"
   ]
  },
  {
   "cell_type": "code",
   "execution_count": 16,
   "metadata": {},
   "outputs": [],
   "source": [
    "def make_model_BN(activation):\n",
    "    model = Sequential()\n",
    "    if activation == 'relu':\n",
    "        model.add(Conv2D(16, (3,3), padding='same', activation='relu', input_shape=(32,32,3)))\n",
    "        model.add(BatchNormalization())\n",
    "        model.add(Conv2D(32, (3,3), padding='same', activation='relu', input_shape=(32,32,3)))\n",
    "        model.add(BatchNormalization())\n",
    "    if activation == 'tanh':\n",
    "        model.add(Conv2D(16, (3,3), padding='same', activation='tanh', input_shape=(32,32,3)))\n",
    "        model.add(BatchNormalization())\n",
    "        model.add(Conv2D(32, (3,3), padding='same', activation='tanh', input_shape=(32,32,3)))\n",
    "        model.add(BatchNormalization())\n",
    "    if activation == 'sigmoid':\n",
    "        model.add(Conv2D(16, (3,3), padding='same', activation='sigmoid', input_shape=(32,32,3)))\n",
    "        model.add(BatchNormalization())\n",
    "        model.add(Conv2D(32, (3,3), padding='same', activation='sigmoid', input_shape=(32,32,3)))\n",
    "        model.add(BatchNormalization())\n",
    "    model.add(MaxPooling2D(pool_size=(2,2), strides=None, padding='valid', data_format=None))\n",
    "    model.add(Flatten())\n",
    "    model.add(Dense(256, input_shape=(256, )))\n",
    "    model.add(Dense(10))\n",
    "    model.add(Activation('softmax'))\n",
    "    \n",
    "    return model\n"
   ]
  },
  {
   "cell_type": "code",
   "execution_count": 17,
   "metadata": {},
   "outputs": [
    {
     "name": "stdout",
     "output_type": "stream",
     "text": [
      "Model: \"sequential_2\"\n",
      "_________________________________________________________________\n",
      "Layer (type)                 Output Shape              Param #   \n",
      "=================================================================\n",
      "conv2d_3 (Conv2D)            (None, 32, 32, 16)        448       \n",
      "_________________________________________________________________\n",
      "batch_normalization_1 (Batch (None, 32, 32, 16)        64        \n",
      "_________________________________________________________________\n",
      "conv2d_4 (Conv2D)            (None, 32, 32, 32)        4640      \n",
      "_________________________________________________________________\n",
      "batch_normalization_2 (Batch (None, 32, 32, 32)        128       \n",
      "_________________________________________________________________\n",
      "max_pooling2d_2 (MaxPooling2 (None, 16, 16, 32)        0         \n",
      "_________________________________________________________________\n",
      "flatten_2 (Flatten)          (None, 8192)              0         \n",
      "_________________________________________________________________\n",
      "dense_3 (Dense)              (None, 256)               2097408   \n",
      "_________________________________________________________________\n",
      "dense_4 (Dense)              (None, 10)                2570      \n",
      "_________________________________________________________________\n",
      "activation_2 (Activation)    (None, 10)                0         \n",
      "=================================================================\n",
      "Total params: 2,105,258\n",
      "Trainable params: 2,105,162\n",
      "Non-trainable params: 96\n",
      "_________________________________________________________________\n"
     ]
    }
   ],
   "source": [
    "model_BN = make_model_BN('relu')\n",
    "model_BN.summary()"
   ]
  },
  {
   "cell_type": "code",
   "execution_count": 18,
   "metadata": {},
   "outputs": [],
   "source": [
    "# SGD with Batch Normalization without momentum\n",
    "model_BN.compile(loss='categorical_crossentropy',\n",
    "              optimizer='sgd',\n",
    "             #optimizer=keras.optimizers.SGD(lr=0.01, momentum=0.9, nesterov=True),\n",
    "              metrics=['accuracy'])"
   ]
  },
  {
   "cell_type": "code",
   "execution_count": 19,
   "metadata": {},
   "outputs": [
    {
     "name": "stdout",
     "output_type": "stream",
     "text": [
      "Epoch 1/10\n",
      "50000/50000 [==============================] - 112s 2ms/step - loss: 1.5736 - accuracy: 0.5084\n",
      "Epoch 2/10\n",
      "50000/50000 [==============================] - 112s 2ms/step - loss: 1.0421 - accuracy: 0.6375\n",
      "Epoch 3/10\n",
      "50000/50000 [==============================] - 132s 3ms/step - loss: 0.9226 - accuracy: 0.6803\n",
      "Epoch 4/10\n",
      "50000/50000 [==============================] - 137s 3ms/step - loss: 0.8460 - accuracy: 0.7081\n",
      "Epoch 5/10\n",
      "50000/50000 [==============================] - 127s 3ms/step - loss: 0.7855 - accuracy: 0.7298\n",
      "Epoch 6/10\n",
      "50000/50000 [==============================] - 112s 2ms/step - loss: 0.7322 - accuracy: 0.7482\n",
      "Epoch 7/10\n",
      "50000/50000 [==============================] - 112s 2ms/step - loss: 0.6841 - accuracy: 0.7662\n",
      "Epoch 8/10\n",
      "50000/50000 [==============================] - 112s 2ms/step - loss: 0.6396 - accuracy: 0.7825\n",
      "Epoch 9/10\n",
      "50000/50000 [==============================] - 112s 2ms/step - loss: 0.5971 - accuracy: 0.7992\n",
      "Epoch 10/10\n",
      "50000/50000 [==============================] - 112s 2ms/step - loss: 0.5574 - accuracy: 0.8133\n"
     ]
    },
    {
     "data": {
      "text/plain": [
       "<keras.callbacks.callbacks.History at 0x7f83adf04b38>"
      ]
     },
     "execution_count": 19,
     "metadata": {},
     "output_type": "execute_result"
    }
   ],
   "source": [
    "model_BN.fit(X_train, y_train, epochs=10, batch_size=32,shuffle=False)"
   ]
  },
  {
   "cell_type": "code",
   "execution_count": 20,
   "metadata": {},
   "outputs": [
    {
     "name": "stdout",
     "output_type": "stream",
     "text": [
      "10000/10000 [==============================] - 6s 627us/step\n",
      "Test Loss:  1.2742890957832336\n",
      "Test Accuracy:  63.440001010894775\n"
     ]
    }
   ],
   "source": [
    "accuracy_sgdBN = model_BN.evaluate(X_test, y_test, batch_size=32)\n",
    "print(\"Test Loss: \",accuracy_sgdBN[0])\n",
    "print(\"Test Accuracy: \",accuracy_sgdBN[1]*100)"
   ]
  },
  {
   "cell_type": "code",
   "execution_count": 21,
   "metadata": {},
   "outputs": [],
   "source": [
    "# SGD with Batch Normalization + momentum\n",
    "model_BN.compile(loss='categorical_crossentropy',\n",
    "              optimizer=keras.optimizers.SGD(lr=0.01, momentum=0.9, nesterov=False),\n",
    "              metrics=['accuracy'])"
   ]
  },
  {
   "cell_type": "code",
   "execution_count": 22,
   "metadata": {},
   "outputs": [
    {
     "name": "stdout",
     "output_type": "stream",
     "text": [
      "Epoch 1/10\n",
      "50000/50000 [==============================] - 112s 2ms/step - loss: 1.0540 - accuracy: 0.6327\n",
      "Epoch 2/10\n",
      "50000/50000 [==============================] - 112s 2ms/step - loss: 0.8379 - accuracy: 0.7095\n",
      "Epoch 3/10\n",
      "50000/50000 [==============================] - 112s 2ms/step - loss: 0.7331 - accuracy: 0.7472\n",
      "Epoch 4/10\n",
      "50000/50000 [==============================] - 112s 2ms/step - loss: 0.6580 - accuracy: 0.7743\n",
      "Epoch 5/10\n",
      "50000/50000 [==============================] - 112s 2ms/step - loss: 0.6214 - accuracy: 0.7859\n",
      "Epoch 6/10\n",
      "50000/50000 [==============================] - 116s 2ms/step - loss: 0.5798 - accuracy: 0.8029\n",
      "Epoch 7/10\n",
      "50000/50000 [==============================] - 112s 2ms/step - loss: 0.5744 - accuracy: 0.8070\n",
      "Epoch 8/10\n",
      "50000/50000 [==============================] - 124s 2ms/step - loss: 0.5432 - accuracy: 0.8194\n",
      "Epoch 9/10\n",
      "50000/50000 [==============================] - 132s 3ms/step - loss: 0.5430 - accuracy: 0.8249\n",
      "Epoch 10/10\n",
      "50000/50000 [==============================] - 124s 2ms/step - loss: 0.5289 - accuracy: 0.8291\n"
     ]
    },
    {
     "data": {
      "text/plain": [
       "<keras.callbacks.callbacks.History at 0x7f83adc0ecf8>"
      ]
     },
     "execution_count": 22,
     "metadata": {},
     "output_type": "execute_result"
    }
   ],
   "source": [
    "model_BN.fit(X_train, y_train, epochs=10, batch_size=32,shuffle=False)"
   ]
  },
  {
   "cell_type": "code",
   "execution_count": 23,
   "metadata": {},
   "outputs": [
    {
     "name": "stdout",
     "output_type": "stream",
     "text": [
      "10000/10000 [==============================] - 6s 628us/step\n",
      "Test Loss:  3.3469668128967287\n",
      "Test Accuracy:  51.84999704360962\n"
     ]
    }
   ],
   "source": [
    "accuracy_momentumBN = model_BN.evaluate(X_test, y_test, batch_size=32)\n",
    "print(\"Test Loss: \",accuracy_momentumBN[0])\n",
    "print(\"Test Accuracy: \",accuracy_momentumBN[1]*100)"
   ]
  },
  {
   "cell_type": "code",
   "execution_count": 24,
   "metadata": {},
   "outputs": [],
   "source": [
    "# SGD with Batch Normalization + Nesterov momentum\n",
    "model_BN.compile(loss='categorical_crossentropy',\n",
    "              optimizer=keras.optimizers.SGD(lr=0.01, momentum=0.9, nesterov=True),\n",
    "              metrics=['accuracy'])"
   ]
  },
  {
   "cell_type": "code",
   "execution_count": 25,
   "metadata": {},
   "outputs": [
    {
     "name": "stdout",
     "output_type": "stream",
     "text": [
      "Epoch 1/10\n",
      "50000/50000 [==============================] - 122s 2ms/step - loss: 0.4579 - accuracy: 0.8500\n",
      "Epoch 2/10\n",
      "50000/50000 [==============================] - 121s 2ms/step - loss: 0.4519 - accuracy: 0.8582\n",
      "Epoch 3/10\n",
      "50000/50000 [==============================] - 121s 2ms/step - loss: 0.4643 - accuracy: 0.8535\n",
      "Epoch 4/10\n",
      "50000/50000 [==============================] - 121s 2ms/step - loss: 0.4702 - accuracy: 0.8540\n",
      "Epoch 5/10\n",
      "50000/50000 [==============================] - 122s 2ms/step - loss: 0.4699 - accuracy: 0.8548\n",
      "Epoch 6/10\n",
      "50000/50000 [==============================] - 121s 2ms/step - loss: 0.4795 - accuracy: 0.8572\n",
      "Epoch 7/10\n",
      "50000/50000 [==============================] - 121s 2ms/step - loss: 0.4764 - accuracy: 0.8510\n",
      "Epoch 8/10\n",
      "50000/50000 [==============================] - 122s 2ms/step - loss: 0.4984 - accuracy: 0.8550\n",
      "Epoch 9/10\n",
      "50000/50000 [==============================] - 121s 2ms/step - loss: 0.5033 - accuracy: 0.8555\n",
      "Epoch 10/10\n",
      "50000/50000 [==============================] - 136s 3ms/step - loss: 0.5171 - accuracy: 0.8514\n"
     ]
    },
    {
     "data": {
      "text/plain": [
       "<keras.callbacks.callbacks.History at 0x7f83ad7aa550>"
      ]
     },
     "execution_count": 25,
     "metadata": {},
     "output_type": "execute_result"
    }
   ],
   "source": [
    "model_BN.fit(X_train, y_train, epochs=10, batch_size=32,shuffle=False)"
   ]
  },
  {
   "cell_type": "code",
   "execution_count": 26,
   "metadata": {},
   "outputs": [
    {
     "name": "stdout",
     "output_type": "stream",
     "text": [
      "10000/10000 [==============================] - 9s 873us/step\n",
      "Test Loss:  3.056974808502197\n",
      "Test Accuracy:  53.380000591278076\n"
     ]
    }
   ],
   "source": [
    "accuracy_nesterovBN = model_BN.evaluate(X_test, y_test, batch_size=32)\n",
    "print(\"Test Loss: \",accuracy_nesterovBN[0])\n",
    "print(\"Test Accuracy: \",accuracy_nesterovBN[1]*100)"
   ]
  }
 ],
 "metadata": {
  "kernelspec": {
   "display_name": "Python 3",
   "language": "python",
   "name": "python3"
  },
  "language_info": {
   "codemirror_mode": {
    "name": "ipython",
    "version": 3
   },
   "file_extension": ".py",
   "mimetype": "text/x-python",
   "name": "python",
   "nbconvert_exporter": "python",
   "pygments_lexer": "ipython3",
   "version": "3.6.9"
  }
 },
 "nbformat": 4,
 "nbformat_minor": 2
}
